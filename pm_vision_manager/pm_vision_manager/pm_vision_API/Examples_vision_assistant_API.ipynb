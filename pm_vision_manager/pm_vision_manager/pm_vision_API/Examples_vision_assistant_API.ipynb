{
 "cells": [
  {
   "attachments": {},
   "cell_type": "markdown",
   "metadata": {},
   "source": [
    "# Imports"
   ]
  },
  {
   "cell_type": "code",
   "execution_count": 24,
   "metadata": {},
   "outputs": [
    {
     "name": "stdout",
     "output_type": "stream",
     "text": [
      "ros2 service call /ExecuteVision pm_vision_interfaces/srv/ExecuteVision \"{process_filename: process_demo.json , camera_config_filename: webcam_config.yaml , db_cross_val_only: false , process_uid:  , image_display_time: 10.0 , cross_validate_in_execution: false}\"\n"
     ]
    },
    {
     "name": "stdout",
     "output_type": "stream",
     "text": [
      "requester: making request: pm_vision_interfaces.srv.ExecuteVision_Request(process_filename='process_demo.json', camera_config_filename='webcam_config.yaml', process_uid='None', db_cross_val_only=False, image_display_time=10, cross_validate_in_execution=False)\n",
      "\n",
      "response:\n",
      "pm_vision_interfaces.srv.ExecuteVision_Response(success=False, results_dict=\"{'vision_process_name': 'process_demo_2.json', 'exec_timestamp': '15_08_2023_22_55_37', 'vision_OK': False, 'process_UID': 'df', 'VisionOK_cross_val': True, 'failed_images_cross_val': [], 'vision_results': []}\", results_path='')\n",
      "\n",
      "response:\n",
      "pm_vision_interfaces.srv.ExecuteVision_Response(success=False, results_dict=\"{'vision_process_name': 'process_demo.json', 'exec_timestamp': '15_08_2023_22_55_41', 'vision_OK': False, 'process_UID': 'None', 'VisionOK_cross_val': True, 'failed_images_cross_val': [], 'vision_results': []}\", results_path='')\n",
      "\n"
     ]
    }
   ],
   "source": [
    "import subprocess\n",
    "\n",
    "#service = '/object_publisher/spawn_object'\n",
    "service = '/ExecuteVision'\n",
    "process_filename = \"process_demo.json\"\n",
    "camera_config_filename = \"webcam_config.yaml\"\n",
    "db_cross_val_only = 'false'\n",
    "process_uid = \"\"\n",
    "image_display_time_in_execution_mode = str(10.0)\n",
    "open_process_file = 'false'\n",
    "cross_validate_in_execution = 'false'\n",
    "\n",
    "command=f'ros2 service call '\\\n",
    "+ service + ' '\\\n",
    "'pm_vision_interfaces/srv/ExecuteVision '\\\n",
    "'\"{process_filename: '+ process_filename +' , '\\\n",
    "'camera_config_filename: '+ camera_config_filename +' , '\\\n",
    "'db_cross_val_only: '+ db_cross_val_only +' , '\\\n",
    "'process_uid: '+ process_uid +' , '\\\n",
    "'image_display_time: '+ image_display_time_in_execution_mode +' , '\\\n",
    "'cross_validate_in_execution: '+ cross_validate_in_execution+'}\"'\n",
    "\n",
    "print(str(command))\n",
    "\n",
    "process = subprocess.Popen(command, shell=True)"
   ]
  },
  {
   "cell_type": "code",
   "execution_count": 23,
   "metadata": {},
   "outputs": [
    {
     "name": "stdout",
     "output_type": "stream",
     "text": [
      "ros2 service call /ExecuteVision pm_vision_interfaces/srv/ExecuteVision \"{process_filename: process_demo_2.json , camera_config_filename: webcam_config.yaml , db_cross_val_only: false , process_uid: df , image_display_time: 10.0 , cross_validate_in_execution: false}\"\n"
     ]
    },
    {
     "name": "stdout",
     "output_type": "stream",
     "text": [
      "requester: making request: pm_vision_interfaces.srv.ExecuteVision_Request(process_filename='process_demo_2.json', camera_config_filename='webcam_config.yaml', process_uid='df', db_cross_val_only=False, image_display_time=10, cross_validate_in_execution=False)\n",
      "\n"
     ]
    }
   ],
   "source": [
    "#service = '/object_publisher/spawn_object'\n",
    "service = '/ExecuteVision'\n",
    "process_filename = \"process_demo_2.json\"\n",
    "camera_config_filename = \"webcam_config.yaml\"\n",
    "db_cross_val_only = 'false'\n",
    "process_uid = \"df\"\n",
    "image_display_time_in_execution_mode = str(10.0)\n",
    "open_process_file = 'false'\n",
    "cross_validate_in_execution = 'false'\n",
    "\n",
    "command=f'ros2 service call '\\\n",
    "+ service + ' '\\\n",
    "'pm_vision_interfaces/srv/ExecuteVision '\\\n",
    "'\"{process_filename: '+ process_filename +' , '\\\n",
    "'camera_config_filename: '+ camera_config_filename +' , '\\\n",
    "'db_cross_val_only: '+ db_cross_val_only +' , '\\\n",
    "'process_uid: '+ process_uid +' , '\\\n",
    "'image_display_time: '+ image_display_time_in_execution_mode +' , '\\\n",
    "'cross_validate_in_execution: '+ cross_validate_in_execution+'}\"'\n",
    "\n",
    "print(str(command))\n",
    "\n",
    "process = subprocess.Popen(command, shell=True)"
   ]
  },
  {
   "cell_type": "code",
   "execution_count": null,
   "metadata": {},
   "outputs": [
    {
     "name": "stdout",
     "output_type": "stream",
     "text": [
      "ros2 service call /ExecuteVision pm_vision_interfaces/srv/ExecuteVision \"{process_filename: process_demo_2.json , camera_config_filename: webcam_config.yaml , db_cross_val_only: false , process_uid: df , image_display_time: 10.0 , cross_validate_in_execution: false}\"\n"
     ]
    },
    {
     "name": "stdout",
     "output_type": "stream",
     "text": [
      "requester: making request: pm_vision_interfaces.srv.ExecuteVision_Request(process_filename='process_demo_2.json', camera_config_filename='webcam_config.yaml', process_uid='df', db_cross_val_only=False, image_display_time=10, cross_validate_in_execution=False)\n",
      "\n"
     ]
    }
   ],
   "source": [
    "#service = '/object_publisher/spawn_object'\n",
    "service = '/ExecuteVision'\n",
    "process_filename = \"simple_process_example.json\"\n",
    "camera_config_filename = \"webcam_config.yaml\"\n",
    "db_cross_val_only = 'false'\n",
    "process_uid = \"df\"\n",
    "image_display_time_in_execution_mode = str(10.0)\n",
    "open_process_file = 'false'\n",
    "cross_validate_in_execution = 'false'\n",
    "\n",
    "command=f'ros2 service call '\\\n",
    "+ service + ' '\\\n",
    "'pm_vision_interfaces/srv/ExecuteVision '\\\n",
    "'\"{process_filename: '+ process_filename +' , '\\\n",
    "'camera_config_filename: '+ camera_config_filename +' , '\\\n",
    "'db_cross_val_only: '+ db_cross_val_only +' , '\\\n",
    "'process_uid: '+ process_uid +' , '\\\n",
    "'image_display_time: '+ image_display_time_in_execution_mode +' , '\\\n",
    "'cross_validate_in_execution: '+ cross_validate_in_execution+'}\"'\n",
    "\n",
    "print(str(command))\n",
    "\n",
    "process = subprocess.Popen(command, shell=True)"
   ]
  },
  {
   "cell_type": "code",
   "execution_count": 27,
   "metadata": {},
   "outputs": [
    {
     "name": "stdout",
     "output_type": "stream",
     "text": [
      "ros2 service call /StartVisionAssistant pm_vision_interfaces/srv/StartVisionAssistant \"{process_filename: simple_process_example.json , camera_config_filename: webcam_config.yaml , db_cross_val_only: false , process_uid: myassistant , open_process_file: false}\"\n"
     ]
    },
    {
     "name": "stdout",
     "output_type": "stream",
     "text": [
      "waiting for service to become available...\n",
      "requester: making request: pm_vision_interfaces.srv.StartVisionAssistant_Request(process_filename='simple_process_example.json', camera_config_filename='webcam_config.yaml', process_uid='myassistant', db_cross_val_only=False, open_process_file=False)\n",
      "\n"
     ]
    }
   ],
   "source": [
    "#service = '/object_publisher/spawn_object'\n",
    "service = '/StartVisionAssistant'\n",
    "process_filename = \"simple_process_example.json\"\n",
    "camera_config_filename = \"webcam_config.yaml\"\n",
    "db_cross_val_only = 'false'\n",
    "process_uid = \"myassistant\"\n",
    "open_process_file = 'false'\n",
    "cross_validate_in_execution = 'false'\n",
    "\n",
    "command=f'ros2 service call '\\\n",
    "+ service + ' '\\\n",
    "'pm_vision_interfaces/srv/StartVisionAssistant '\\\n",
    "'\"{process_filename: '+ process_filename +' , '\\\n",
    "'camera_config_filename: '+ camera_config_filename +' , '\\\n",
    "'db_cross_val_only: '+ db_cross_val_only +' , '\\\n",
    "'process_uid: '+ process_uid +' , '\\\n",
    "'open_process_file: '+ open_process_file +'}\"'\n",
    "\n",
    "print(str(command))\n",
    "\n",
    "process = subprocess.Popen(command, shell=True)"
   ]
  },
  {
   "cell_type": "code",
   "execution_count": 28,
   "metadata": {},
   "outputs": [
    {
     "name": "stdout",
     "output_type": "stream",
     "text": [
      "ros2 service call /StopVisionAssistant pm_vision_interfaces/srv/StopVisionAssistant \"{process_uid: myassistant}\"\n"
     ]
    },
    {
     "name": "stdout",
     "output_type": "stream",
     "text": [
      "requester: making request: pm_vision_interfaces.srv.StopVisionAssistant_Request(process_uid='myassistant')\n",
      "\n",
      "response:\n",
      "pm_vision_interfaces.srv.StopVisionAssistant_Response(success=True)\n",
      "\n",
      "response:\n",
      "pm_vision_interfaces.srv.StartVisionAssistant_Response(success=True, results_dict=\"{'vision_process_name': 'simple_process_example.json', 'exec_timestamp': '15_08_2023_23_04_23', 'vision_OK': True, 'process_UID': 'myassistant', 'VisionOK_cross_val': True, 'failed_images_cross_val': [], 'vision_results': [{'Circle': {'axis_1': -22.0, 'axis_2': -150.0, 'axis_1_suffix': 'x', 'axis_2_suffix': 'y', 'radius': 4.472236156463623, 'Unit': 'um'}}]}\", results_path='')\n",
      "\n"
     ]
    }
   ],
   "source": [
    "#service = '/object_publisher/spawn_object'\n",
    "service = '/StopVisionAssistant'\n",
    "\n",
    "process_uid = \"myassistant\"\n",
    "\n",
    "command=f'ros2 service call '\\\n",
    "+ service + ' '\\\n",
    "'pm_vision_interfaces/srv/StopVisionAssistant '\\\n",
    "'\"{process_uid: '+ process_uid +'}\"'\n",
    "\n",
    "print(str(command))\n",
    "\n",
    "process = subprocess.Popen(command, shell=True)"
   ]
  },
  {
   "cell_type": "code",
   "execution_count": 31,
   "metadata": {},
   "outputs": [
    {
     "name": "stdout",
     "output_type": "stream",
     "text": [
      "ros2 service call /ExecuteVision pm_vision_interfaces/srv/ExecuteVision \"{launch_as_assistant: true, process_filename: process_demo.json , camera_config_filename: webcam_config.yaml , db_cross_val_only: false , process_uid: lk , image_display_time_in_execution_mode: 20 , open_process_file: false , cross_validate_in_execution: false}\"\n"
     ]
    },
    {
     "name": "stdout",
     "output_type": "stream",
     "text": [
      "waiting for service to become available...\n",
      "requester: making request: pm_vision_interfaces.srv.ExecuteVision_Request(launch_as_assistant=True, process_filename='process_demo.json', camera_config_filename='webcam_config.yaml', process_uid='lk', db_cross_val_only=False, image_display_time_in_execution_mode=20, cross_validate_in_execution=False, open_process_file=False)\n",
      "\n"
     ]
    }
   ],
   "source": [
    "import subprocess\n",
    "\n",
    "#service = '/object_publisher/spawn_object'\n",
    "service = '/ExecuteVision'\n",
    "launch_as_assistant = 'true'\n",
    "process_filename = \"process_demo.json\"\n",
    "camera_config_filename = \"webcam_config.yaml\"\n",
    "db_cross_val_only = 'false'\n",
    "process_uid = \"lk\"\n",
    "image_display_time_in_execution_mode = str(20)\n",
    "open_process_file = 'false'\n",
    "cross_validate_in_execution = 'false'\n",
    "\n",
    "command=f'ros2 service call '\\\n",
    "+ service + ' '\\\n",
    "'pm_vision_interfaces/srv/ExecuteVision '\\\n",
    "'\"{launch_as_assistant: '+ launch_as_assistant+', '\\\n",
    "'process_filename: '+ process_filename +' , '\\\n",
    "'camera_config_filename: '+ camera_config_filename +' , '\\\n",
    "'db_cross_val_only: '+ db_cross_val_only +' , '\\\n",
    "'process_uid: '+ process_uid +' , '\\\n",
    "'image_display_time_in_execution_mode: '+ image_display_time_in_execution_mode +' , '\\\n",
    "'open_process_file: '+ open_process_file +' , '\\\n",
    "'cross_validate_in_execution: '+ cross_validate_in_execution+'}\"'\n",
    "\n",
    "print(str(command))\n",
    "\n",
    "process = subprocess.Popen(command, shell=True)"
   ]
  },
  {
   "cell_type": "code",
   "execution_count": null,
   "metadata": {},
   "outputs": [],
   "source": [
    "from vision_assistant_API import *\n"
   ]
  },
  {
   "cell_type": "code",
   "execution_count": null,
   "metadata": {},
   "outputs": [],
   "source": [
    "my_vision_assistant = vision_assistant_API()\n",
    "VisionOK, _ = my_vision_assistant.run_vision(image_display_time=0.5)\n",
    "#VisionOK, _ = my_vision_assistant.run_vision( process_file = \"process_demo.json\", camera_config_file = \"webcam_config.yaml\")\n",
    "if VisionOK:\n",
    "    #print(my_vision_assistant.vision_results_list)\n",
    "    print(\"Vision Assistant API Test sucessfull!\")\n",
    "else:\n",
    "    print(\"Vision Assistant API Test failed!\")"
   ]
  },
  {
   "cell_type": "code",
   "execution_count": null,
   "metadata": {},
   "outputs": [],
   "source": [
    "my_vision_assistant = vision_assistant_API()\n",
    "my_vision_assistant.start_vision_assistant( process_file = \"process_demo.json\", camera_config_file = \"webcam_config.yaml\")\n"
   ]
  }
 ],
 "metadata": {
  "kernelspec": {
   "display_name": "Python 3",
   "language": "python",
   "name": "python3"
  },
  "language_info": {
   "codemirror_mode": {
    "name": "ipython",
    "version": 3
   },
   "file_extension": ".py",
   "mimetype": "text/x-python",
   "name": "python",
   "nbconvert_exporter": "python",
   "pygments_lexer": "ipython3",
   "version": "3.10.12"
  },
  "orig_nbformat": 4
 },
 "nbformat": 4,
 "nbformat_minor": 2
}
