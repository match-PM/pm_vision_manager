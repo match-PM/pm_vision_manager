{
 "cells": [
  {
   "attachments": {},
   "cell_type": "markdown",
   "metadata": {},
   "source": [
    "# Imports"
   ]
  },
  {
   "cell_type": "code",
   "execution_count": 6,
   "metadata": {},
   "outputs": [
    {
     "name": "stdout",
     "output_type": "stream",
     "text": [
      "ros2 service call /ExecuteVision pm_vision_interfaces/srv/ExecuteVision \"{process_filename: process_demo.json , camera_config_filename: webcam_config.yaml , db_cross_val_only: false , process_uid:  , image_display_time: 10.0 , run_cross_validation: false}\"\n"
     ]
    },
    {
     "name": "stdout",
     "output_type": "stream",
     "text": [
      "requester: making request: pm_vision_interfaces.srv.ExecuteVision_Request(process_filename='process_demo.json', camera_config_filename='webcam_config.yaml', process_uid='None', db_cross_val_only=False, image_display_time=10, run_cross_validation=False)\n",
      "\n",
      "response:\n",
      "pm_vision_interfaces.srv.ExecuteVision_Response(success=False, results_dict=\"{'vision_process_name': 'process_demo.json', 'exec_timestamp': '29_09_2023_17_07_54', 'vision_OK': False, 'process_UID': 'None', 'VisionOK_cross_val': True, 'failed_images_cross_val': [], 'vision_results': []}\", results_path='')\n",
      "\n"
     ]
    }
   ],
   "source": [
    "import subprocess\n",
    "\n",
    "#service = '/object_publisher/spawn_object'\n",
    "service = '/ExecuteVision'\n",
    "process_filename = \"process_demo.json\"\n",
    "camera_config_filename = \"webcam_config.yaml\"\n",
    "db_cross_val_only = 'false'\n",
    "process_uid = \"\"\n",
    "image_display_time_in_execution_mode = str(10.0)\n",
    "open_process_file = 'true'\n",
    "run_cross_validation = 'false'\n",
    "\n",
    "command=f'ros2 service call '\\\n",
    "+ service + ' '\\\n",
    "'pm_vision_interfaces/srv/ExecuteVision '\\\n",
    "'\"{process_filename: '+ process_filename +' , '\\\n",
    "'camera_config_filename: '+ camera_config_filename +' , '\\\n",
    "'db_cross_val_only: '+ db_cross_val_only +' , '\\\n",
    "'process_uid: '+ process_uid +' , '\\\n",
    "'image_display_time: '+ image_display_time_in_execution_mode +' , '\\\n",
    "'run_cross_validation: '+ run_cross_validation+'}\"'\n",
    "\n",
    "print(str(command))\n",
    "\n",
    "process = subprocess.Popen(command, shell=True)"
   ]
  },
  {
   "cell_type": "code",
   "execution_count": 15,
   "metadata": {},
   "outputs": [
    {
     "name": "stdout",
     "output_type": "stream",
     "text": [
      "ros2 service call /ExecuteVision pm_vision_interfaces/srv/ExecuteVision \"{process_filename: process_demo_2.json , camera_config_filename: webcam_config.yaml , db_cross_val_only: false , process_uid: df , image_display_time: 10.0 , run_cross_validation: true}\"\n"
     ]
    },
    {
     "name": "stdout",
     "output_type": "stream",
     "text": [
      "requester: making request: pm_vision_interfaces.srv.ExecuteVision_Request(process_filename='process_demo_2.json', camera_config_filename='webcam_config.yaml', process_uid='df', db_cross_val_only=False, image_display_time=10, run_cross_validation=True)\n",
      "\n"
     ]
    }
   ],
   "source": [
    "#service = '/object_publisher/spawn_object'\n",
    "service = '/ExecuteVision'\n",
    "process_filename = \"process_demo_2.json\"\n",
    "camera_config_filename = \"webcam_config.yaml\"\n",
    "db_cross_val_only = 'false'\n",
    "process_uid = \"df\"\n",
    "image_display_time_in_execution_mode = str(10.0)\n",
    "open_process_file = 'false'\n",
    "run_cross_validation = 'true'\n",
    "\n",
    "command=f'ros2 service call '\\\n",
    "+ service + ' '\\\n",
    "'pm_vision_interfaces/srv/ExecuteVision '\\\n",
    "'\"{process_filename: '+ process_filename +' , '\\\n",
    "'camera_config_filename: '+ camera_config_filename +' , '\\\n",
    "'db_cross_val_only: '+ db_cross_val_only +' , '\\\n",
    "'process_uid: '+ process_uid +' , '\\\n",
    "'image_display_time: '+ image_display_time_in_execution_mode +' , '\\\n",
    "'run_cross_validation: '+ run_cross_validation+'}\"'\n",
    "\n",
    "print(str(command))\n",
    "\n",
    "process = subprocess.Popen(command, shell=True)"
   ]
  },
  {
   "cell_type": "code",
   "execution_count": 10,
   "metadata": {},
   "outputs": [
    {
     "name": "stdout",
     "output_type": "stream",
     "text": [
      "ros2 service call /ExecuteVision pm_vision_interfaces/srv/ExecuteVision \"{process_filename: simple_process_example.json , camera_config_filename: webcam_config.yaml , db_cross_val_only: false , process_uid: df , image_display_time: 10.0 , run_cross_validation: false}\"\n"
     ]
    },
    {
     "name": "stdout",
     "output_type": "stream",
     "text": [
      "waiting for service to become available...\n",
      "requester: making request: pm_vision_interfaces.srv.ExecuteVision_Request(process_filename='simple_process_example.json', camera_config_filename='webcam_config.yaml', process_uid='df', db_cross_val_only=False, image_display_time=10, run_cross_validation=False)\n",
      "\n",
      "response:\n",
      "pm_vision_interfaces.srv.ExecuteVision_Response(success=True, results_dict=\"{'vision_process_name': 'simple_process_example.json', 'exec_timestamp': '29_09_2023_17_17_12', 'vision_OK': True, 'process_UID': 'df', 'VisionOK_cross_val': True, 'failed_images_cross_val': [], 'vision_results': [{'Circle': {'axis_1': -78.0, 'axis_2': -30.0, 'axis_1_suffix': 'x', 'axis_2_suffix': 'y', 'radius': 9.300638198852539, 'Unit': 'um'}}]}\", results_path='')\n",
      "\n"
     ]
    }
   ],
   "source": [
    "#service = '/object_publisher/spawn_object'\n",
    "service = '/ExecuteVision'\n",
    "process_filename = \"simple_process_example.json\"\n",
    "camera_config_filename = \"webcam_config.yaml\"\n",
    "db_cross_val_only = 'false'\n",
    "process_uid = \"df\"\n",
    "image_display_time_in_execution_mode = str(10.0)\n",
    "open_process_file = 'false'\n",
    "run_cross_validation = 'false'\n",
    "\n",
    "command=f'ros2 service call '\\\n",
    "+ service + ' '\\\n",
    "'pm_vision_interfaces/srv/ExecuteVision '\\\n",
    "'\"{process_filename: '+ process_filename +' , '\\\n",
    "'camera_config_filename: '+ camera_config_filename +' , '\\\n",
    "'db_cross_val_only: '+ db_cross_val_only +' , '\\\n",
    "'process_uid: '+ process_uid +' , '\\\n",
    "'image_display_time: '+ image_display_time_in_execution_mode +' , '\\\n",
    "'run_cross_validation: '+ run_cross_validation+'}\"'\n",
    "\n",
    "print(str(command))\n",
    "\n",
    "process = subprocess.Popen(command, shell=True)"
   ]
  },
  {
   "cell_type": "code",
   "execution_count": 31,
   "metadata": {},
   "outputs": [
    {
     "name": "stdout",
     "output_type": "stream",
     "text": [
      "ros2 service call /StartVisionAssistant pm_vision_interfaces/srv/StartVisionAssistant \"{process_filename: process_demo.json , camera_config_filename: webcam_config.yaml , db_cross_val_only: false , process_uid: myassistant , run_cross_validation: true , show_image_on_error: true , step_through_images: true , open_process_file: false}\"\n"
     ]
    },
    {
     "name": "stdout",
     "output_type": "stream",
     "text": [
      "requester: making request: pm_vision_interfaces.srv.StartVisionAssistant_Request(process_filename='process_demo.json', camera_config_filename='webcam_config.yaml', process_uid='myassistant', db_cross_val_only=False, run_cross_validation=True, show_image_on_error=True, step_through_images=True, open_process_file=False)\n",
      "\n"
     ]
    }
   ],
   "source": [
    "service = '/StartVisionAssistant'\n",
    "#process_filename = \"simple_process_example.json\"\n",
    "process_filename = \"process_demo.json\"\n",
    "camera_config_filename = \"webcam_config.yaml\"\n",
    "db_cross_val_only = 'false'\n",
    "process_uid = \"myassistant\"\n",
    "open_process_file = 'false'\n",
    "run_cross_validation = 'false'\n",
    "show_image_on_error = 'true'\n",
    "step_through_images = 'true'\n",
    "\n",
    "command=f'ros2 service call '\\\n",
    "+ service + ' '\\\n",
    "'pm_vision_interfaces/srv/StartVisionAssistant '\\\n",
    "'\"{process_filename: '+ process_filename +' , '\\\n",
    "'camera_config_filename: '+ camera_config_filename +' , '\\\n",
    "'db_cross_val_only: '+ db_cross_val_only +' , '\\\n",
    "'process_uid: '+ process_uid +' , '\\\n",
    "'run_cross_validation: '+ run_cross_validation +' , '\\\n",
    "'show_image_on_error: '+ show_image_on_error +' , '\\\n",
    "'step_through_images: '+ step_through_images +' , '\\\n",
    "'open_process_file: '+ open_process_file +'}\"'\n",
    "print(str(command))\n",
    "\n",
    "process = subprocess.Popen(command, shell=True)"
   ]
  },
  {
   "cell_type": "code",
   "execution_count": 32,
   "metadata": {},
   "outputs": [
    {
     "name": "stdout",
     "output_type": "stream",
     "text": [
      "ros2 service call /StopVisionAssistant pm_vision_interfaces/srv/StopVisionAssistant \"{process_uid: myassistant}\"\n"
     ]
    },
    {
     "name": "stdout",
     "output_type": "stream",
     "text": [
      "waiting for service to become available...\n",
      "requester: making request: pm_vision_interfaces.srv.StopVisionAssistant_Request(process_uid='myassistant')\n",
      "\n",
      "response:\n",
      "pm_vision_interfaces.srv.StopVisionAssistant_Response(success=True)\n",
      "\n",
      "response:\n",
      "pm_vision_interfaces.srv.StartVisionAssistant_Response(success=True, results_dict=\"{'vision_process_name': 'process_demo.json', 'exec_timestamp': '29_09_2023_17_33_27', 'vision_OK': True, 'process_UID': 'myassistant', 'VisionOK_cross_val': True, 'image_name': '001_08_05_2023_20_09_28_5.png', 'vision_crossval_OK': True, 'failed_images_cross_val': [], 'vision_results': []}\", results_path='')\n",
      "\n"
     ]
    }
   ],
   "source": [
    "service = '/StopVisionAssistant'\n",
    "process_uid = \"myassistant\"\n",
    "\n",
    "command=f'ros2 service call '\\\n",
    "+ service + ' '\\\n",
    "'pm_vision_interfaces/srv/StopVisionAssistant '\\\n",
    "'\"{process_uid: '+ process_uid +'}\"'\n",
    "\n",
    "print(str(command))\n",
    "\n",
    "process = subprocess.Popen(command, shell=True)"
   ]
  },
  {
   "cell_type": "code",
   "execution_count": null,
   "metadata": {},
   "outputs": [],
   "source": [
    "import subprocess\n",
    "\n",
    "#service = '/object_publisher/spawn_object'\n",
    "service = '/ExecuteVision'\n",
    "launch_as_assistant = 'true'\n",
    "process_filename = \"process_demo.json\"\n",
    "camera_config_filename = \"webcam_config.yaml\"\n",
    "db_cross_val_only = 'false'\n",
    "process_uid = \"lk\"\n",
    "image_display_time_in_execution_mode = str(20)\n",
    "open_process_file = 'false'\n",
    "cross_validate_in_execution = 'false'\n",
    "\n",
    "command=f'ros2 service call '\\\n",
    "+ service + ' '\\\n",
    "'pm_vision_interfaces/srv/ExecuteVision '\\\n",
    "'\"{launch_as_assistant: '+ launch_as_assistant+', '\\\n",
    "'process_filename: '+ process_filename +' , '\\\n",
    "'camera_config_filename: '+ camera_config_filename +' , '\\\n",
    "'db_cross_val_only: '+ db_cross_val_only +' , '\\\n",
    "'process_uid: '+ process_uid +' , '\\\n",
    "'image_display_time_in_execution_mode: '+ image_display_time_in_execution_mode +' , '\\\n",
    "'open_process_file: '+ open_process_file +' , '\\\n",
    "'cross_validate_in_execution: '+ cross_validate_in_execution+'}\"'\n",
    "\n",
    "print(str(command))\n",
    "\n",
    "process = subprocess.Popen(command, shell=True)"
   ]
  },
  {
   "cell_type": "code",
   "execution_count": null,
   "metadata": {},
   "outputs": [],
   "source": [
    "from vision_assistant_API import *\n"
   ]
  },
  {
   "cell_type": "code",
   "execution_count": null,
   "metadata": {},
   "outputs": [],
   "source": [
    "my_vision_assistant = vision_assistant_API()\n",
    "VisionOK, _ = my_vision_assistant.run_vision(image_display_time=0.5)\n",
    "#VisionOK, _ = my_vision_assistant.run_vision( process_file = \"process_demo.json\", camera_config_file = \"webcam_config.yaml\")\n",
    "if VisionOK:\n",
    "    #print(my_vision_assistant.vision_results_list)\n",
    "    print(\"Vision Assistant API Test sucessfull!\")\n",
    "else:\n",
    "    print(\"Vision Assistant API Test failed!\")"
   ]
  },
  {
   "cell_type": "code",
   "execution_count": null,
   "metadata": {},
   "outputs": [],
   "source": [
    "my_vision_assistant = vision_assistant_API()\n",
    "my_vision_assistant.start_vision_assistant( process_file = \"process_demo.json\", camera_config_file = \"webcam_config.yaml\")\n"
   ]
  }
 ],
 "metadata": {
  "kernelspec": {
   "display_name": "Python 3",
   "language": "python",
   "name": "python3"
  },
  "language_info": {
   "codemirror_mode": {
    "name": "ipython",
    "version": 3
   },
   "file_extension": ".py",
   "mimetype": "text/x-python",
   "name": "python",
   "nbconvert_exporter": "python",
   "pygments_lexer": "ipython3",
   "version": "3.10.12"
  },
  "orig_nbformat": 4
 },
 "nbformat": 4,
 "nbformat_minor": 2
}
